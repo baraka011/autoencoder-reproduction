{
 "cells": [
  {
   "cell_type": "markdown",
   "id": "b9bd7a55-e69a-4442-9b05-aff06557d032",
   "metadata": {},
   "source": [
    "Uncoded BPSK(4,4),Autoencoder(7,4), Hamming(7,4) MLD"
   ]
  },
  {
   "cell_type": "code",
   "execution_count": 2,
   "id": "8fc9429f-d8bf-47f5-a790-e754111f73a1",
   "metadata": {},
   "outputs": [],
   "source": [
    "import sionna as sn\n",
    "import tensorflow as tf"
   ]
  },
  {
   "cell_type": "code",
   "execution_count": 3,
   "id": "424561c6-77ab-4b1e-92fc-7a3081f42c91",
   "metadata": {},
   "outputs": [],
   "source": [
    "import numpy as np\n",
    "%matplotlib inline\n",
    "import matplotlib.pyplot as plt\n",
    "\n",
    "import keras\n",
    "import pickle\n",
    "\n",
    "from tensorflow.keras import Model,Sequential\n",
    "from tensorflow.keras.layers import Input, Dense, GaussianNoise,Lambda,Embedding,BatchNormalization,Layer\n",
    "from keras import regularizers\n",
    "from keras.optimizers import Adam,SGD\n",
    "from keras import backend as K"
   ]
  },
  {
   "cell_type": "code",
   "execution_count": 4,
   "id": "81715e84-e76d-435d-aad0-73e1165f92f6",
   "metadata": {},
   "outputs": [],
   "source": [
    "from sionna.mapping import Constellation, Mapper, Demapper\n",
    "from sionna.fec.linear import LinearEncoder,OSDecoder\n",
    "from sionna.utils import BinarySource, ebnodb2no,sim_ber,log2,log10,hard_decisions\n",
    "from sionna.utils.metrics import  count_block_errors\n",
    "from sionna.channel import AWGN\n",
    "from sionna.utils.plotting import PlotBER\n",
    "from sionna.fec.utils import load_parity_check_examples"
   ]
  },
  {
   "cell_type": "code",
   "execution_count": 5,
   "id": "df39d5c3-958b-4976-815e-3556f7151afb",
   "metadata": {},
   "outputs": [],
   "source": [
    "class Uncodedmodel(Model):\n",
    "    def __init__(self,k,n,num_bits_per_symbol,demapping_method = 'app'):\n",
    "        super().__init__()\n",
    "        \n",
    "        self.k = k\n",
    "        self.n = n\n",
    "        self.num_bits_per_symbol = num_bits_per_symbol\n",
    "        self.source = BinarySource()\n",
    "        self.constellation = Constellation(\"pam\",self.num_bits_per_symbol)\n",
    "        self.mapper = Mapper(constellation = self.constellation)\n",
    "        self.demapper = Demapper(demapping_method,constellation = self.constellation)\n",
    "        self.channel = AWGN()\n",
    "        \n",
    "    @tf.function()\n",
    "    def call(self,batch_size,ebno_db):\n",
    "        no = ebnodb2no(ebno_db,num_bits_per_symbol=self.num_bits_per_symbol,\n",
    "                                coderate=self.k/self.n)  \n",
    "        u = self.source([batch_size,self.k])\n",
    "        x = self.mapper(u)\n",
    "        y = self.channel([x,no])\n",
    "        llr = self.demapper([y,no])\n",
    "        return u,llr"
   ]
  },
  {
   "cell_type": "code",
   "execution_count": 6,
   "id": "7930a7a8-0f8c-4955-9936-9a71911ba2cd",
   "metadata": {},
   "outputs": [
    {
     "data": {
      "text/plain": [
       "array([[1, 0, 1, 1, 1, 0, 0],\n",
       "       [0, 1, 0, 1, 1, 1, 0],\n",
       "       [0, 0, 1, 0, 1, 1, 1]])"
      ]
     },
     "execution_count": 6,
     "metadata": {},
     "output_type": "execute_result"
    }
   ],
   "source": [
    "# (7,4) Hamming code parity check matrix\n",
    "pcm,k,n,coderate = load_parity_check_examples(pcm_id = 0)\n",
    "pcm"
   ]
  },
  {
   "cell_type": "code",
   "execution_count": 7,
   "id": "989d6181-681b-40f4-8315-c32a1415755c",
   "metadata": {},
   "outputs": [],
   "source": [
    "class Codedmodel(Model):\n",
    "    def __init__(self,k,n,num_bits_per_symbol,pcm,demapping_method = 'app'):\n",
    "        super().__init__()\n",
    "        \n",
    "        self.k = k\n",
    "        self.n = n\n",
    "        self.num_bits_per_symbol = num_bits_per_symbol\n",
    "        self.source = BinarySource()\n",
    "        self.constellation = Constellation(\"pam\",self.num_bits_per_symbol)\n",
    "        self.mapper = Mapper(constellation = self.constellation)\n",
    "        self.demapper = Demapper(demapping_method,constellation = self.constellation)\n",
    "        self.channel = AWGN()\n",
    "        self.encoder = LinearEncoder(pcm,is_pcm=True)\n",
    "        self.decoder = OSDecoder(encoder=self.encoder,t=2)\n",
    "        \n",
    "    @tf.function()\n",
    "    def call(self,batch_size,ebno_db):\n",
    "        \n",
    "        no = ebnodb2no(ebno_db,num_bits_per_symbol=self.num_bits_per_symbol,\n",
    "                                coderate=self.k/self.n)\n",
    "        u = self.source([batch_size,self.k])\n",
    "        c = self.encoder(u)\n",
    "        x = self.mapper(c)\n",
    "        y = self.channel([x,no])\n",
    "        llr = self.demapper([y,no])\n",
    "        u_hat = self.decoder(llr)\n",
    "        \n",
    "        return c,u_hat"
   ]
  },
  {
   "cell_type": "code",
   "execution_count": 9,
   "id": "75dcf824-b30c-401f-a25f-026d2a4ab5f8",
   "metadata": {},
   "outputs": [],
   "source": [
    "# (7,4) Hamming MLD\n",
    "coded_sys = Codedmodel(k = k ,n = n, pcm = pcm,num_bits_per_symbol = 1)"
   ]
  },
  {
   "cell_type": "code",
   "execution_count": 10,
   "id": "e08d57e6-46d2-4399-b875-fd9dbc9355ae",
   "metadata": {},
   "outputs": [],
   "source": [
    "# (4,4) Uncoded BPSK\n",
    "uncoded_sys = Uncodedmodel(k = 4 ,n = 4, num_bits_per_symbol = 1)"
   ]
  },
  {
   "cell_type": "code",
   "execution_count": 11,
   "id": "7dc25196-90b4-48b5-b656-caa5d5e32c2c",
   "metadata": {},
   "outputs": [
    {
     "name": "stdout",
     "output_type": "stream",
     "text": [
      "EbNo [dB] |        BER |       BLER |  bit errors |    num bits | block errors |  num blocks | runtime [s] |    status\n",
      "---------------------------------------------------------------------------------------------------------------------------------------\n",
      "     -4.0 | 1.8630e-01 | 5.5790e-01 |        7452 |       40000 |         5579 |       10000 |         0.8 |reached target block errors\n",
      "     -3.5 | 1.7415e-01 | 5.3210e-01 |        6966 |       40000 |         5321 |       10000 |         0.0 |reached target block errors\n",
      "     -3.0 | 1.5725e-01 | 4.9430e-01 |        6290 |       40000 |         4943 |       10000 |         0.0 |reached target block errors\n",
      "     -2.5 | 1.4415e-01 | 4.6410e-01 |        5766 |       40000 |         4641 |       10000 |         0.0 |reached target block errors\n",
      "     -2.0 | 1.3070e-01 | 4.3460e-01 |        5228 |       40000 |         4346 |       10000 |         0.0 |reached target block errors\n",
      "     -1.5 | 1.1597e-01 | 3.9200e-01 |        4639 |       40000 |         3920 |       10000 |         0.0 |reached target block errors\n",
      "     -1.0 | 1.0403e-01 | 3.5710e-01 |        4161 |       40000 |         3571 |       10000 |         0.1 |reached target block errors\n",
      "     -0.5 | 9.0550e-02 | 3.1450e-01 |        3622 |       40000 |         3145 |       10000 |         0.0 |reached target block errors\n",
      "      0.0 | 7.7813e-02 | 2.7680e-01 |        6225 |       80000 |         5536 |       20000 |         0.0 |reached target block errors\n",
      "      0.5 | 6.5625e-02 | 2.3830e-01 |        5250 |       80000 |         4766 |       20000 |         0.0 |reached target block errors\n",
      "      1.0 | 5.4850e-02 | 2.0200e-01 |        4388 |       80000 |         4040 |       20000 |         0.0 |reached target block errors\n",
      "      1.5 | 4.6738e-02 | 1.7510e-01 |        3739 |       80000 |         3502 |       20000 |         0.0 |reached target block errors\n",
      "      2.0 | 3.8342e-02 | 1.4480e-01 |        4601 |      120000 |         4344 |       30000 |         0.0 |reached target block errors\n",
      "      2.5 | 2.8608e-02 | 1.0960e-01 |        3433 |      120000 |         3288 |       30000 |         0.0 |reached target block errors\n",
      "      3.0 | 2.3094e-02 | 8.8950e-02 |        3695 |      160000 |         3558 |       40000 |         0.0 |reached target block errors\n",
      "      3.5 | 1.6990e-02 | 6.6320e-02 |        3398 |      200000 |         3316 |       50000 |         0.0 |reached target block errors\n",
      "      4.0 | 1.2779e-02 | 5.0100e-02 |        3067 |      240000 |         3006 |       60000 |         0.0 |reached target block errors\n",
      "      4.5 | 8.6861e-03 | 3.4256e-02 |        3127 |      360000 |         3083 |       90000 |         0.1 |reached target block errors\n",
      "      5.0 | 6.0365e-03 | 2.3946e-02 |        3139 |      520000 |         3113 |      130000 |         0.1 |reached target block errors\n",
      "      5.5 | 3.7619e-03 | 1.4967e-02 |        3160 |      840000 |         3143 |      210000 |         0.2 |reached target block errors\n",
      "      6.0 | 2.3394e-03 | 9.3303e-03 |        3088 |     1320000 |         3079 |      330000 |         0.3 |reached target block errors\n",
      "      6.5 | 1.3723e-03 | 5.4764e-03 |        3019 |     2200000 |         3012 |      550000 |         0.5 |reached target block errors\n",
      "      7.0 | 7.7117e-04 | 3.0796e-03 |        3023 |     3920000 |         3018 |      980000 |         0.8 |reached target block errors\n",
      "      7.5 | 3.9850e-04 | 1.5900e-03 |        1594 |     4000000 |         1590 |     1000000 |         0.8 |reached max iter       \n",
      "      8.0 | 1.8275e-04 | 7.3100e-04 |         731 |     4000000 |          731 |     1000000 |         0.8 |reached max iter       \n",
      "EbNo [dB] |        BER |       BLER |  bit errors |    num bits | block errors |  num blocks | runtime [s] |    status\n",
      "---------------------------------------------------------------------------------------------------------------------------------------\n",
      "     -4.0 | 2.3184e-01 | 4.8940e-01 |       16229 |       70000 |         4894 |       10000 |         0.9 |reached target block errors\n",
      "     -3.5 | 2.1306e-01 | 4.5190e-01 |       14914 |       70000 |         4519 |       10000 |         0.0 |reached target block errors\n",
      "     -3.0 | 1.9027e-01 | 4.0560e-01 |       13319 |       70000 |         4056 |       10000 |         0.0 |reached target block errors\n",
      "     -2.5 | 1.7466e-01 | 3.7310e-01 |       12226 |       70000 |         3731 |       10000 |         0.0 |reached target block errors\n",
      "     -2.0 | 1.5466e-01 | 3.3120e-01 |       10826 |       70000 |         3312 |       10000 |         0.0 |reached target block errors\n",
      "     -1.5 | 1.3861e-01 | 2.9795e-01 |       19405 |      140000 |         5959 |       20000 |         0.0 |reached target block errors\n",
      "     -1.0 | 1.1778e-01 | 2.5475e-01 |       16489 |      140000 |         5095 |       20000 |         0.0 |reached target block errors\n",
      "     -0.5 | 1.0041e-01 | 2.1750e-01 |       14058 |      140000 |         4350 |       20000 |         0.0 |reached target block errors\n",
      "      0.0 | 8.1614e-02 | 1.7755e-01 |       11426 |      140000 |         3551 |       20000 |         0.0 |reached target block errors\n",
      "      0.5 | 6.5219e-02 | 1.4230e-01 |       13696 |      210000 |         4269 |       30000 |         0.1 |reached target block errors\n",
      "      1.0 | 5.1671e-02 | 1.1307e-01 |       10851 |      210000 |         3392 |       30000 |         0.1 |reached target block errors\n",
      "      1.5 | 3.9086e-02 | 8.6025e-02 |       10944 |      280000 |         3441 |       40000 |         0.1 |reached target block errors\n",
      "      2.0 | 2.9360e-02 | 6.4800e-02 |       10276 |      350000 |         3240 |       50000 |         0.1 |reached target block errors\n",
      "      2.5 | 2.0406e-02 | 4.5200e-02 |        9999 |      490000 |         3164 |       70000 |         0.2 |reached target block errors\n",
      "      3.0 | 1.3436e-02 | 2.9736e-02 |       10346 |      770000 |         3271 |      110000 |         0.3 |reached target block errors\n",
      "      3.5 | 8.8527e-03 | 1.9794e-02 |        9915 |     1120000 |         3167 |      160000 |         0.4 |reached target block errors\n",
      "      4.0 | 5.3903e-03 | 1.2076e-02 |        9433 |     1750000 |         3019 |      250000 |         0.6 |reached target block errors\n",
      "      4.5 | 2.9525e-03 | 6.6652e-03 |        9507 |     3220000 |         3066 |      460000 |         1.0 |reached target block errors\n",
      "      5.0 | 1.5505e-03 | 3.5081e-03 |        9334 |     6020000 |         3017 |      860000 |         2.0 |reached target block errors\n",
      "      5.5 | 7.8657e-04 | 1.7880e-03 |        5506 |     7000000 |         1788 |     1000000 |         2.3 |reached max iter       \n",
      "      6.0 | 3.5129e-04 | 8.0200e-04 |        2459 |     7000000 |          802 |     1000000 |         3.4 |reached max iter       \n",
      "      6.5 | 1.5557e-04 | 3.5700e-04 |        1089 |     7000000 |          357 |     1000000 |         3.7 |reached max iter       \n",
      "      7.0 | 4.7857e-05 | 1.1000e-04 |         335 |     7000000 |          110 |     1000000 |         3.5 |reached max iter       \n",
      "      7.5 | 1.8143e-05 | 4.2000e-05 |         127 |     7000000 |           42 |     1000000 |         3.5 |reached max iter       \n",
      "      8.0 | 6.4286e-06 | 1.5000e-05 |          45 |     7000000 |           15 |     1000000 |         3.2 |reached max iter       \n"
     ]
    }
   ],
   "source": [
    "ebno_db = np.arange(-4, 8.5, 0.5) \n",
    "\n",
    "BER = {}\n",
    "BLER = {}\n",
    "\n",
    "ber,bler = sim_ber(uncoded_sys, ebno_db, soft_estimates=True,batch_size=10000, num_target_block_errors=3000, max_mc_iter=100)\n",
    "BLER['uncoded'] = bler.numpy()\n",
    "BER['uncoded'] = ber.numpy()\n",
    "\n",
    "ber,bler = sim_ber(coded_sys, ebno_db, batch_size=10000, num_target_block_errors=3000, max_mc_iter=100)\n",
    "BLER['coded_mld'] = bler.numpy()\n",
    "BER['coded_mld'] = ber.numpy()"
   ]
  },
  {
   "cell_type": "code",
   "execution_count": 61,
   "id": "4a3ae0bb-a5e0-4d0d-8535-d689d26536a5",
   "metadata": {},
   "outputs": [
    {
     "name": "stdout",
     "output_type": "stream",
     "text": [
      "Number of input bits is : 4\n",
      "Number of possible input smybols is : 16\n",
      "Number of channel uses is : 7\n"
     ]
    }
   ],
   "source": [
    "#(7,4) Autoencoder\n",
    "\n",
    "M = int(2**(n*coderate))\n",
    "print('Number of input bits is :',k)\n",
    "print('Number of possible input smybols is :',M)\n",
    "print('Number of channel uses is :',n)"
   ]
  },
  {
   "cell_type": "code",
   "execution_count": 139,
   "id": "0cffa0d4-6267-4a39-8606-cbf3aa99996f",
   "metadata": {},
   "outputs": [],
   "source": [
    "class Encoder(Layer):\n",
    "    def __init__(self,M,n):\n",
    "        super().__init__()\n",
    "        \n",
    "        self.M = M\n",
    "        self.n = n\n",
    "        \n",
    "        self._dense1 = Dense(self.M,'relu')\n",
    "        self._dense2 = Dense(self.n, 'linear')\n",
    "        self._lambda = Lambda(lambda x: np.sqrt(self.n)*K.l2_normalize(x,axis=1))\n",
    "    \n",
    "    def call(self,x):\n",
    "        x = self._dense1(x)\n",
    "        x = self._dense2(x)\n",
    "        x = self._lambda(x)\n",
    "        return x"
   ]
  },
  {
   "cell_type": "code",
   "execution_count": 140,
   "id": "e5e633df-d710-4bab-835a-0a2c23d0dd10",
   "metadata": {},
   "outputs": [],
   "source": [
    "class Decoder(Layer):\n",
    "    def __init__(self,M,n):\n",
    "        super().__init__()\n",
    "        \n",
    "        self.M = M\n",
    "        self.n = n\n",
    "        \n",
    "        self._dense1 = Dense(self.M,'relu')\n",
    "        self._dense2 = Dense(self.M, 'softmax')\n",
    "    \n",
    "    def call(self,y):\n",
    "        y = self._dense1(y)\n",
    "        y = self._dense2(y)\n",
    "\n",
    "        return y"
   ]
  },
  {
   "cell_type": "code",
   "execution_count": 141,
   "id": "399adbed-cdb5-4409-8f14-b69780cfb548",
   "metadata": {},
   "outputs": [],
   "source": [
    "class Autoencoder(Model):\n",
    "    def __init__(self, M,n,coderate,training):\n",
    "        super().__init__()\n",
    "\n",
    "        self.M = M\n",
    "        self.n = n\n",
    "        self.R = coderate\n",
    "        self.training = training\n",
    "        \n",
    "        self.encoder = Encoder(self.M,self.n)\n",
    "        self.decoder = Decoder(self.M,self.n)\n",
    "        \n",
    "        if self.training:\n",
    "            self.cce = tf.keras.losses.CategoricalCrossentropy(from_logits=False)\n",
    "\n",
    "    def call(self,batch_size,ebno_db):\n",
    "        \n",
    "        s = tf.random.uniform(shape = [batch_size],minval=0,maxval=self.M,dtype=tf.int32)\n",
    "        s_onehot = tf.one_hot(s,depth=self.M)\n",
    "        s_onehot = np.array(s_onehot)\n",
    "        \n",
    "        x = self.encoder(s_onehot)\n",
    "\n",
    "        ebno = 10**(ebno_db/10)\n",
    "        no = 1/(self.R*ebno)\n",
    "        std = np.sqrt(no/2)\n",
    "        noise = tf.random.normal(shape=tf.shape(x), stddev= std)\n",
    "\n",
    "        \n",
    "        y = x + noise\n",
    "        y = self.decoder(y)\n",
    "        \n",
    "        if self.training:\n",
    "            loss = self.cce(s_onehot,y)\n",
    "            return loss\n",
    "        else:\n",
    "            s_hat = np.argmax(y,axis=1)\n",
    "            return s,s_hat"
   ]
  },
  {
   "cell_type": "code",
   "execution_count": 142,
   "id": "51a66f32-ecda-45d7-a2d3-260d246d113f",
   "metadata": {},
   "outputs": [],
   "source": [
    "epoch = 500\n",
    "training_batch_size = tf.constant(30000, tf.int32) "
   ]
  },
  {
   "cell_type": "code",
   "execution_count": 143,
   "id": "deb74fa6-e4e9-4175-8eea-a4a832272354",
   "metadata": {},
   "outputs": [],
   "source": [
    "def training(model):\n",
    "    optimizer = Adam(learning_rate=0.01)\n",
    "    \n",
    "    train_loss_results = []\n",
    "\n",
    "    for i in range(epoch):\n",
    "        with tf.GradientTape() as tape:\n",
    "            # feedforward\n",
    "            # calculate loss\n",
    "            loss = model(training_batch_size,ebno_db=3) \n",
    "        weights = model.trainable_weights\n",
    "        grads = tape.gradient(loss,weights)\n",
    "        optimizer.apply_gradients(zip(grads, weights))\n",
    "\n",
    "        if i % 100 == 0:\n",
    "            print('Iteration {}/{}  CCE: {:.4f}'.format(i, epoch, loss.numpy()), end='\\r')\n",
    "            \n",
    "        train_loss_results.append(loss.numpy())\n",
    "    # plot loss curve\n",
    "    plt.title('Loss function curve')\n",
    "    plt.xlabel('Epoch')\n",
    "    plt.ylabel('Loss')\n",
    "    plt.plot(train_loss_results,label='$Loss$')\n",
    "    plt.legend\n",
    "    plt.show() "
   ]
  },
  {
   "cell_type": "code",
   "execution_count": 144,
   "id": "c4dbb9e7-4d53-4776-82cd-182d4a5fb32a",
   "metadata": {},
   "outputs": [],
   "source": [
    "np.random.seed(1)\n",
    "tf.random.set_seed(1)"
   ]
  },
  {
   "cell_type": "code",
   "execution_count": 145,
   "id": "ad4e7247-9a7c-4041-b0fb-3db751a60c46",
   "metadata": {},
   "outputs": [
    {
     "name": "stdout",
     "output_type": "stream",
     "text": [
      "Iteration 400/500  CCE: 0.0983\r"
     ]
    },
    {
     "data": {
      "image/png": "[encoded data removed]",
      "text/plain": [
       "<Figure size 432x288 with 1 Axes>"
      ]
     },
     "metadata": {
      "needs_background": "light"
     },
     "output_type": "display_data"
    }
   ],
   "source": [
    "model_train = Autoencoder(M,n,coderate,training=True) \n",
    "training(model_train)"
   ]
  },
  {
   "cell_type": "code",
   "execution_count": 97,
   "id": "bed1ebd0-e228-4382-a8bf-f4a60aa971ec",
   "metadata": {},
   "outputs": [],
   "source": [
    "#print(model.trainable_variables)"
   ]
  },
  {
   "cell_type": "code",
   "execution_count": 146,
   "id": "cf079730-eff1-4d6e-8534-0bf35ebbdedb",
   "metadata": {},
   "outputs": [],
   "source": [
    "weights_path_ae_74  = 'ae_74_weights'"
   ]
  },
  {
   "cell_type": "code",
   "execution_count": 147,
   "id": "24ece712-0b48-46b8-aef4-060ab7c88b63",
   "metadata": {},
   "outputs": [],
   "source": [
    "weights = model_train.get_weights()\n",
    "with open(weights_path_ae_74, 'wb') as f:\n",
    "    pickle.dump(weights, f)"
   ]
  },
  {
   "cell_type": "code",
   "execution_count": 148,
   "id": "73db005f-f4af-4103-99ef-a66e54e671c2",
   "metadata": {},
   "outputs": [],
   "source": [
    "model_ae74 = Autoencoder(M,n,coderate,training=False)\n",
    "model_ae74(tf.constant(1, tf.int32), tf.constant(10.0, tf.float32))\n",
    "with open(weights_path_ae_74, 'rb') as f:\n",
    "    weights = pickle.load(f)\n",
    "    model_ae74.set_weights(weights)"
   ]
  },
  {
   "cell_type": "code",
   "execution_count": 149,
   "id": "2cdf4d02-71e6-4fdf-9d28-2162aa6ce9cc",
   "metadata": {},
   "outputs": [
    {
     "name": "stdout",
     "output_type": "stream",
     "text": [
      "EbNo [dB] |        BER |       BLER |  bit errors |    num bits | block errors |  num blocks | runtime [s] |    status\n",
      "---------------------------------------------------------------------------------------------------------------------------------------\n",
      "     -4.0 | 4.9815e-01 | 1.0000e+00 |        9963 |       20000 |            1 |           1 |         0.0 |reached target bit errors\n",
      "     -3.5 | 4.6245e-01 | 1.0000e+00 |        9249 |       20000 |            1 |           1 |         0.0 |reached target bit errors\n",
      "     -3.0 | 4.2070e-01 | 1.0000e+00 |        8414 |       20000 |            1 |           1 |         0.0 |reached target bit errors\n",
      "     -2.5 | 3.8945e-01 | 1.0000e+00 |        7789 |       20000 |            1 |           1 |         0.0 |reached target bit errors\n",
      "     -2.0 | 3.4685e-01 | 1.0000e+00 |        6937 |       20000 |            1 |           1 |         0.0 |reached target bit errors\n",
      "     -1.5 | 3.0210e-01 | 1.0000e+00 |        6042 |       20000 |            1 |           1 |         0.0 |reached target bit errors\n",
      "     -1.0 | 2.6305e-01 | 1.0000e+00 |        5261 |       20000 |            1 |           1 |         0.0 |reached target bit errors\n",
      "     -0.5 | 2.2780e-01 | 1.0000e+00 |        4556 |       20000 |            1 |           1 |         0.0 |reached target bit errors\n",
      "      0.0 | 1.8830e-01 | 1.0000e+00 |        3766 |       20000 |            1 |           1 |         0.0 |reached target bit errors\n",
      "      0.5 | 1.5045e-01 | 1.0000e+00 |        3009 |       20000 |            1 |           1 |         0.0 |reached target bit errors\n",
      "      1.0 | 1.2008e-01 | 1.0000e+00 |        4803 |       40000 |            2 |           2 |         0.0 |reached target bit errors\n",
      "      1.5 | 9.3150e-02 | 1.0000e+00 |        3726 |       40000 |            2 |           2 |         0.0 |reached target bit errors\n",
      "      2.0 | 6.7267e-02 | 1.0000e+00 |        4036 |       60000 |            3 |           3 |         0.1 |reached target bit errors\n",
      "      2.5 | 4.7900e-02 | 1.0000e+00 |        3832 |       80000 |            4 |           4 |         0.1 |reached target bit errors\n",
      "      3.0 | 3.3830e-02 | 1.0000e+00 |        3383 |      100000 |            5 |           5 |         0.1 |reached target bit errors\n",
      "      3.5 | 2.1607e-02 | 1.0000e+00 |        3025 |      140000 |            7 |           7 |         0.2 |reached target bit errors\n",
      "      4.0 | 1.3100e-02 | 1.0000e+00 |        3144 |      240000 |           12 |          12 |         0.3 |reached target bit errors\n",
      "      4.5 | 7.3286e-03 | 1.0000e+00 |        3078 |      420000 |           21 |          21 |         0.4 |reached target bit errors\n",
      "      5.0 | 4.0568e-03 | 1.0000e+00 |        3002 |      740000 |           37 |          37 |         0.7 |reached target bit errors\n",
      "      5.5 | 2.0338e-03 | 1.0000e+00 |        3010 |     1480000 |           74 |          74 |         1.5 |reached target bit errors\n",
      "      6.0 | 9.2050e-04 | 1.0000e+00 |        1841 |     2000000 |          100 |         100 |         2.3 |reached max iter       \n",
      "      6.5 | 3.5750e-04 | 1.0000e+00 |         715 |     2000000 |          100 |         100 |         3.0 |reached max iter       \n",
      "      7.0 | 1.3700e-04 | 9.3000e-01 |         274 |     2000000 |           93 |         100 |         2.6 |reached max iter       \n",
      "      7.5 | 4.3500e-05 | 5.7000e-01 |          87 |     2000000 |           57 |         100 |         2.4 |reached max iter       \n",
      "      8.0 | 1.8000e-05 | 2.9000e-01 |          36 |     2000000 |           29 |         100 |         2.5 |reached max iter       \n"
     ]
    }
   ],
   "source": [
    "ber,_ = sim_ber(model_ae74,ebno_db,batch_size=20000, num_target_bit_errors=3000, max_mc_iter=100)\n",
    "BLER['ae_74'] = ber.numpy()"
   ]
  },
  {
   "cell_type": "code",
   "execution_count": 150,
   "id": "7f511077-c8e9-4f83-8743-28fbcb66702c",
   "metadata": {},
   "outputs": [
    {
     "data": {
      "image/png": "[encoded data removed]",
      "text/plain": [
       "<Figure size 720x576 with 1 Axes>"
      ]
     },
     "metadata": {
      "needs_background": "light"
     },
     "output_type": "display_data"
    }
   ],
   "source": [
    "plt.figure(figsize=(10,8))\n",
    "\n",
    "plt.semilogy(ebno_db, BLER['uncoded'], 'x-.', c=f'C0', label=f'Uncoded BPSK(4,4)')\n",
    "plt.semilogy(ebno_db, BLER['coded_mld'], '^-.', c=f'C1', label=f'Hamming(7,4) MLD')\n",
    "plt.semilogy(ebno_db, BLER['ae_74'], 'o-.', c=f'C3', label=f'Autoencoder(7,4)')\n",
    "\n",
    "plt.xlabel(r\"$E_b/N_0$ (dB)\")\n",
    "plt.ylabel(\"BLER\")\n",
    "plt.grid(which=\"both\")\n",
    "plt.ylim((1e-5, 1.0))\n",
    "plt.legend()\n",
    "plt.tight_layout()"
   ]
  }
 ],
 "metadata": {
  "kernelspec": {
   "display_name": "Python 3 (ipykernel)",
   "language": "python",
   "name": "python3"
  },
  "language_info": {
   "codemirror_mode": {
    "name": "ipython",
    "version": 3
   },
   "file_extension": ".py",
   "mimetype": "text/x-python",
   "name": "python",
   "nbconvert_exporter": "python",
   "pygments_lexer": "ipython3",
   "version": "3.9.12"
  }
 },
 "nbformat": 4,
 "nbformat_minor": 5
}
