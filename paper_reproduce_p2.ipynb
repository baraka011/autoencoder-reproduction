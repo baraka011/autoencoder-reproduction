{
 "cells": [
  {
   "cell_type": "markdown",
   "id": "ece3f0b1-fedb-4e93-b3c6-be3c85023c30",
   "metadata": {},
   "source": [
    "Uncoded BPSK(8,8), Uncoded BPSK(2,2),Autoencoder(2,2),Autoencoder(8,8)"
   ]
  },
  {
   "cell_type": "code",
   "execution_count": 2,
   "id": "4d4c4183-dd4e-4219-8303-aed963958798",
   "metadata": {},
   "outputs": [],
   "source": [
    "import sionna as sn\n",
    "import tensorflow as tf"
   ]
  },
  {
   "cell_type": "code",
   "execution_count": 3,
   "id": "df9bac61-6f77-4c4e-9fee-6c67f0394a10",
   "metadata": {},
   "outputs": [],
   "source": [
    "import numpy as np\n",
    "%matplotlib inline\n",
    "import matplotlib.pyplot as plt\n",
    "\n",
    "import keras\n",
    "import pickle\n",
    "\n",
    "from tensorflow.keras import Model\n",
    "from tensorflow.keras.layers import Layer,Input, Dense, GaussianNoise,Lambda,BatchNormalization\n",
    "from keras import regularizers\n",
    "from keras.optimizers import Adam,SGD\n",
    "from keras import backend as K"
   ]
  },
  {
   "cell_type": "code",
   "execution_count": 4,
   "id": "c9021073-098c-40d5-b04a-f97200d828cf",
   "metadata": {},
   "outputs": [],
   "source": [
    "from sionna.mapping import Constellation, Mapper, Demapper\n",
    "from sionna.fec.linear import LinearEncoder,OSDecoder\n",
    "from sionna.utils import BinarySource, ebnodb2no,sim_ber\n",
    "from sionna.utils.metrics import  count_block_errors\n",
    "from sionna.channel import AWGN\n",
    "from sionna.utils.plotting import PlotBER"
   ]
  },
  {
   "cell_type": "code",
   "execution_count": 5,
   "id": "4e2e25c1-11da-4357-ad70-e2ea5cf2e1af",
   "metadata": {},
   "outputs": [],
   "source": [
    "class Uncodedmodel(Model):\n",
    "    def __init__(self,k,n,num_bits_per_symbol,demapping_method = 'app'):\n",
    "        super().__init__()\n",
    "        \n",
    "        self.k = k\n",
    "        self.n = n\n",
    "        self.num_bits_per_symbol = num_bits_per_symbol\n",
    "        self.source = BinarySource()\n",
    "        self.constellation = Constellation(\"pam\",self.num_bits_per_symbol)\n",
    "        self.mapper = Mapper(constellation = self.constellation)\n",
    "        self.demapper = Demapper(demapping_method,constellation = self.constellation)\n",
    "        self.channel = AWGN()\n",
    "        \n",
    "    @tf.function()\n",
    "    def call(self,batch_size,ebno_db):\n",
    "        no = ebnodb2no(ebno_db,num_bits_per_symbol=self.num_bits_per_symbol,\n",
    "                                coderate=self.k/self.n)  \n",
    "        u = self.source([batch_size,self.k])\n",
    "        x = self.mapper(u)\n",
    "        y = self.channel([x,no])\n",
    "        llr = self.demapper([y,no])\n",
    "        return u,llr"
   ]
  },
  {
   "cell_type": "code",
   "execution_count": 6,
   "id": "42f4206c-5afb-4708-92c6-e8d257b728ba",
   "metadata": {},
   "outputs": [],
   "source": [
    "class Encoder(Layer):\n",
    "    def __init__(self,M,n):\n",
    "        super().__init__()\n",
    "        \n",
    "        self.M = M\n",
    "        self.n = n\n",
    "        \n",
    "        self._dense1 = Dense(self.M,'relu')\n",
    "        self._dense2 = Dense(self.n, 'linear')\n",
    "        self._lambda = Lambda(lambda x: np.sqrt(self.n)*K.l2_normalize(x,axis=1))\n",
    "    \n",
    "    def call(self,x):\n",
    "        x = self._dense1(x)\n",
    "        x = self._dense2(x)\n",
    "        x = self._lambda(x)\n",
    "        return x"
   ]
  },
  {
   "cell_type": "code",
   "execution_count": 7,
   "id": "c4c3f599-879b-4aea-a96e-41c4c4abe792",
   "metadata": {},
   "outputs": [],
   "source": [
    "class Decoder(Layer):\n",
    "    def __init__(self,M,n):\n",
    "        super().__init__()\n",
    "        \n",
    "        self.M = M\n",
    "        self.n = n\n",
    "        \n",
    "        self._dense1 = Dense(self.M,'relu')\n",
    "        self._dense2 = Dense(self.M, 'softmax')\n",
    "    \n",
    "    def call(self,y):\n",
    "        y = self._dense1(y)\n",
    "        y = self._dense2(y)\n",
    "\n",
    "        return y"
   ]
  },
  {
   "cell_type": "code",
   "execution_count": 8,
   "id": "c6db09e1-28a5-4002-83f1-d160e7e4aca5",
   "metadata": {},
   "outputs": [],
   "source": [
    "class Autoencoder(Model):\n",
    "    def __init__(self, M,n,R,training):\n",
    "        super().__init__()\n",
    "\n",
    "        self.M = M\n",
    "        self.n = n\n",
    "        self.R = R\n",
    "        \n",
    "        self.training = training\n",
    "        \n",
    "        self.encoder = Encoder(self.M,self.n)\n",
    "        self.decoder = Decoder(self.M,self.n)\n",
    "        \n",
    "        if self.training:\n",
    "            self.cce = tf.keras.losses.CategoricalCrossentropy()\n",
    "\n",
    "    def call(self,batch_size,ebno_db):\n",
    "        \n",
    "        s = np.random.randint(self.M,size=batch_size)\n",
    "        s_onehot = tf.one_hot(s,depth=self.M)\n",
    "        s_onehot = np.array(s_onehot)\n",
    "        \n",
    "        x = self.encoder(s_onehot)\n",
    "        \n",
    "        if self.training:\n",
    "            noise = tf.random.normal(shape=tf.shape(x), stddev=1.0/(2*self.R*5.01187)**0.5)\n",
    "            y = x + noise\n",
    "\n",
    "        else:\n",
    "            ebno = 10**(ebno_db/10)\n",
    "            noise = tf.random.normal(shape=tf.shape(x), stddev=1.0/(2*self.R*ebno)**0.5)\n",
    "            y = x + noise\n",
    "        \n",
    "        y = self.decoder(y)\n",
    "        \n",
    "        if self.training:\n",
    "            loss = self.cce(s_onehot,y)\n",
    "            return loss\n",
    "        else:\n",
    "            s_hat = np.argmax(y,axis=1)\n",
    "            return s,s_hat"
   ]
  },
  {
   "cell_type": "code",
   "execution_count": 9,
   "id": "c81e19c3-c1af-4e6e-bdcd-4eb87c9e26bd",
   "metadata": {},
   "outputs": [],
   "source": [
    "def training_22(model):\n",
    "    optimizer = Adam(learning_rate=0.001)\n",
    "\n",
    "    for i in range(epoch_22):\n",
    "        with tf.GradientTape() as tape:\n",
    "            loss = model(training_batch_size,ebno_db=5.01187) \n",
    "        weights = model.trainable_weights\n",
    "        grads = tape.gradient(loss,weights)\n",
    "        optimizer.apply_gradients(zip(grads, weights))\n",
    "\n",
    "        if i % 100 == 0:\n",
    "            print('Iteration {}/{}  CCE: {:.4f}'.format(i, epoch_22, loss.numpy()), end='\\r')"
   ]
  },
  {
   "cell_type": "code",
   "execution_count": 10,
   "id": "f64bf927-c736-4e6a-bcd5-8685bf564b61",
   "metadata": {},
   "outputs": [],
   "source": [
    "def training_88(model):\n",
    "    optimizer = Adam(learning_rate=0.001)\n",
    "\n",
    "    for i in range(epoch_88):\n",
    "        with tf.GradientTape() as tape:\n",
    "            loss = model(training_batch_size,ebno_db=5.01187) \n",
    "        weights = model.trainable_weights\n",
    "        grads = tape.gradient(loss,weights)\n",
    "        optimizer.apply_gradients(zip(grads, weights))\n",
    "\n",
    "        if i % 100 == 0:\n",
    "            print('Iteration {}/{}  CCE: {:.4f}'.format(i, epoch_88, loss.numpy()), end='\\r')"
   ]
  },
  {
   "cell_type": "code",
   "execution_count": 11,
   "id": "981c0a53-729c-4ca7-abe5-cdec663555dc",
   "metadata": {},
   "outputs": [],
   "source": [
    "def save_weights(model, model_weights_path):\n",
    "    weights = model.get_weights()\n",
    "    with open(model_weights_path, 'wb') as f:\n",
    "        pickle.dump(weights, f)"
   ]
  },
  {
   "cell_type": "code",
   "execution_count": 12,
   "id": "9bd12588-a91f-46be-bb73-fd457c2546f7",
   "metadata": {},
   "outputs": [],
   "source": [
    "def load_weights(model, model_weights_path):\n",
    "    model(1, tf.constant(10.0, tf.float32))\n",
    "    with open(model_weights_path, 'rb') as f:\n",
    "        weights = pickle.load(f)\n",
    "    model.set_weights(weights)"
   ]
  },
  {
   "cell_type": "code",
   "execution_count": 13,
   "id": "ebad535f-e73d-44fa-9403-6c2b3f6382c9",
   "metadata": {},
   "outputs": [],
   "source": [
    "weights_path_ae_22  = 'ae_22_weights'\n",
    "weights_path_ae_88  = 'ae_88_weights'\n",
    "\n",
    "\n",
    "training_batch_size = tf.constant(30000, tf.int32) "
   ]
  },
  {
   "cell_type": "code",
   "execution_count": 14,
   "id": "c25125ee-6d2c-47ed-a070-fab566de0ab6",
   "metadata": {},
   "outputs": [
    {
     "name": "stdout",
     "output_type": "stream",
     "text": [
      "Iteration 2900/3000  CCE: 0.0117\r"
     ]
    }
   ],
   "source": [
    "np.random.seed(1)\n",
    "tf.random.set_seed(1)\n",
    "epoch_22 = 3000\n",
    "model_ae_22 = Autoencoder(M=4,n=2,R=1,training=True)\n",
    "training_22(model_ae_22)\n",
    "save_weights(model_ae_22, weights_path_ae_22)"
   ]
  },
  {
   "cell_type": "code",
   "execution_count": 15,
   "id": "ffa6cbe5-5cd2-404d-8c2c-4e4ffbb49d98",
   "metadata": {},
   "outputs": [
    {
     "name": "stdout",
     "output_type": "stream",
     "text": [
      "Iteration 900/1000  CCE: 0.0139\r"
     ]
    }
   ],
   "source": [
    "epoch_88 = 1000\n",
    "model_ae_88 = Autoencoder(M=256,n=8,R=1,training=True) \n",
    "training_88(model_ae_88)\n",
    "save_weights(model_ae_88, weights_path_ae_88)"
   ]
  },
  {
   "cell_type": "code",
   "execution_count": 16,
   "id": "72333d5e-28c5-4f36-92d5-47deb36dbce9",
   "metadata": {},
   "outputs": [],
   "source": [
    "ebno_db = np.arange(-2, 10.5, 0.5) "
   ]
  },
  {
   "cell_type": "code",
   "execution_count": 17,
   "id": "ccb6ed37-cb9b-420d-9a1b-a541e85f5795",
   "metadata": {},
   "outputs": [
    {
     "name": "stdout",
     "output_type": "stream",
     "text": [
      "EbNo [dB] |        BER |       BLER |  bit errors |    num bits | block errors |  num blocks | runtime [s] |    status\n",
      "---------------------------------------------------------------------------------------------------------------------------------------\n",
      "     -2.0 | 1.3070e-01 | 2.4540e-01 |        2614 |       20000 |         2454 |       10000 |         1.3 |reached target block errors\n",
      "     -1.5 | 1.2060e-01 | 2.2800e-01 |        2412 |       20000 |         2280 |       10000 |         0.0 |reached target block errors\n",
      "     -1.0 | 1.0635e-01 | 2.0330e-01 |        2127 |       20000 |         2033 |       10000 |         0.0 |reached target block errors\n",
      "     -0.5 | 9.0050e-02 | 1.7140e-01 |        3602 |       40000 |         3428 |       20000 |         0.0 |reached target block errors\n",
      "      0.0 | 7.9925e-02 | 1.5300e-01 |        3197 |       40000 |         3060 |       20000 |         0.0 |reached target block errors\n",
      "      0.5 | 6.5000e-02 | 1.2610e-01 |        2600 |       40000 |         2522 |       20000 |         0.0 |reached target block errors\n",
      "      1.0 | 5.4325e-02 | 1.0600e-01 |        2173 |       40000 |         2120 |       20000 |         0.0 |reached target block errors\n",
      "      1.5 | 4.6433e-02 | 9.0300e-02 |        2786 |       60000 |         2709 |       30000 |         0.0 |reached target block errors\n",
      "      2.0 | 3.7467e-02 | 7.3667e-02 |        2248 |       60000 |         2210 |       30000 |         0.0 |reached target block errors\n",
      "      2.5 | 3.0412e-02 | 5.9900e-02 |        2433 |       80000 |         2396 |       40000 |         0.0 |reached target block errors\n",
      "      3.0 | 2.2840e-02 | 4.5240e-02 |        2284 |      100000 |         2262 |       50000 |         0.1 |reached target block errors\n",
      "      3.5 | 1.6807e-02 | 3.3271e-02 |        2353 |      140000 |         2329 |       70000 |         0.1 |reached target block errors\n",
      "      4.0 | 1.2017e-02 | 2.3889e-02 |        2163 |      180000 |         2150 |       90000 |         0.1 |reached target block errors\n",
      "      4.5 | 8.8417e-03 | 1.7567e-02 |        2122 |      240000 |         2108 |      120000 |         0.1 |reached target block errors\n",
      "      5.0 | 5.9971e-03 | 1.1947e-02 |        2039 |      340000 |         2031 |      170000 |         0.2 |reached target block errors\n",
      "      5.5 | 4.0058e-03 | 7.9923e-03 |        2083 |      520000 |         2078 |      260000 |         0.3 |reached target block errors\n",
      "      6.0 | 2.3733e-03 | 4.7372e-03 |        2041 |      860000 |         2037 |      430000 |         0.4 |reached target block errors\n",
      "      6.5 | 1.4111e-03 | 2.8208e-03 |        2032 |     1440000 |         2031 |      720000 |         0.7 |reached target block errors\n",
      "      7.0 | 7.5149e-04 | 1.5030e-03 |        2014 |     2680000 |         2014 |     1340000 |         1.4 |reached target block errors\n",
      "      7.5 | 3.9450e-04 | 7.8900e-04 |        1578 |     4000000 |         1578 |     2000000 |         2.1 |reached max iter       \n",
      "      8.0 | 1.9275e-04 | 3.8550e-04 |         771 |     4000000 |          771 |     2000000 |         2.1 |reached max iter       \n",
      "      8.5 | 8.3000e-05 | 1.6600e-04 |         332 |     4000000 |          332 |     2000000 |         2.1 |reached max iter       \n",
      "      9.0 | 3.3500e-05 | 6.7000e-05 |         134 |     4000000 |          134 |     2000000 |         2.1 |reached max iter       \n",
      "      9.5 | 8.5000e-06 | 1.7000e-05 |          34 |     4000000 |           34 |     2000000 |         2.2 |reached max iter       \n",
      "     10.0 | 4.5000e-06 | 9.0000e-06 |          18 |     4000000 |           18 |     2000000 |         2.3 |reached max iter       \n",
      "EbNo [dB] |        BER |       BLER |  bit errors |    num bits | block errors |  num blocks | runtime [s] |    status\n",
      "---------------------------------------------------------------------------------------------------------------------------------------\n",
      "     -2.0 | 1.2990e-01 | 6.6940e-01 |       10392 |       80000 |         6694 |       10000 |         0.2 |reached target block errors\n",
      "     -1.5 | 1.1740e-01 | 6.3210e-01 |        9392 |       80000 |         6321 |       10000 |         0.0 |reached target block errors\n",
      "     -1.0 | 1.0203e-01 | 5.8100e-01 |        8162 |       80000 |         5810 |       10000 |         0.0 |reached target block errors\n",
      "     -0.5 | 9.1400e-02 | 5.3500e-01 |        7312 |       80000 |         5350 |       10000 |         0.0 |reached target block errors\n",
      "      0.0 | 7.8250e-02 | 4.7680e-01 |        6260 |       80000 |         4768 |       10000 |         0.0 |reached target block errors\n",
      "      0.5 | 6.7513e-02 | 4.3030e-01 |        5401 |       80000 |         4303 |       10000 |         0.0 |reached target block errors\n",
      "      1.0 | 5.6650e-02 | 3.7200e-01 |        4532 |       80000 |         3720 |       10000 |         0.0 |reached target block errors\n",
      "      1.5 | 4.6762e-02 | 3.2160e-01 |        3741 |       80000 |         3216 |       10000 |         0.0 |reached target block errors\n",
      "      2.0 | 3.8750e-02 | 2.7130e-01 |        3100 |       80000 |         2713 |       10000 |         0.0 |reached target block errors\n",
      "      2.5 | 2.9738e-02 | 2.1490e-01 |        2379 |       80000 |         2149 |       10000 |         0.0 |reached target block errors\n",
      "      3.0 | 2.3338e-02 | 1.7120e-01 |        3734 |      160000 |         3424 |       20000 |         0.0 |reached target block errors\n",
      "      3.5 | 1.7350e-02 | 1.3035e-01 |        2776 |      160000 |         2607 |       20000 |         0.0 |reached target block errors\n",
      "      4.0 | 1.2571e-02 | 9.6367e-02 |        3017 |      240000 |         2891 |       30000 |         0.0 |reached target block errors\n",
      "      4.5 | 8.8250e-03 | 6.8600e-02 |        2118 |      240000 |         2058 |       30000 |         0.0 |reached target block errors\n",
      "      5.0 | 5.9275e-03 | 4.6360e-02 |        2371 |      400000 |         2318 |       50000 |         0.1 |reached target block errors\n",
      "      5.5 | 3.7500e-03 | 2.9557e-02 |        2100 |      560000 |         2069 |       70000 |         0.1 |reached target block errors\n",
      "      6.0 | 2.4443e-03 | 1.9364e-02 |        2151 |      880000 |         2130 |      110000 |         0.1 |reached target block errors\n",
      "      6.5 | 1.4104e-03 | 1.1228e-02 |        2031 |     1440000 |         2021 |      180000 |         0.2 |reached target block errors\n",
      "      7.0 | 7.9805e-04 | 6.3719e-03 |        2043 |     2560000 |         2039 |      320000 |         0.4 |reached target block errors\n",
      "      7.5 | 3.9219e-04 | 3.1344e-03 |        2008 |     5120000 |         2006 |      640000 |         0.8 |reached target block errors\n",
      "      8.0 | 1.8722e-04 | 1.4970e-03 |        2007 |    10720000 |         2006 |     1340000 |         1.7 |reached target block errors\n",
      "      8.5 | 8.5125e-05 | 6.8100e-04 |        1362 |    16000000 |         1362 |     2000000 |         3.1 |reached max iter       \n",
      "      9.0 | 3.2625e-05 | 2.6100e-04 |         522 |    16000000 |          522 |     2000000 |         3.2 |reached max iter       \n",
      "      9.5 | 1.1125e-05 | 8.9000e-05 |         178 |    16000000 |          178 |     2000000 |         3.1 |reached max iter       \n",
      "     10.0 | 3.9375e-06 | 3.1500e-05 |          63 |    16000000 |           63 |     2000000 |         2.9 |reached max iter       \n",
      "EbNo [dB] |        BER |       BLER |  bit errors |    num bits | block errors |  num blocks | runtime [s] |    status\n",
      "---------------------------------------------------------------------------------------------------------------------------------------\n",
      "     -2.0 | 2.5000e-01 | 1.0000e+00 |        5000 |       20000 |            1 |           1 |         0.0 |reached target bit errors\n",
      "     -1.5 | 2.2495e-01 | 1.0000e+00 |        4499 |       20000 |            1 |           1 |         0.0 |reached target bit errors\n",
      "     -1.0 | 2.0160e-01 | 1.0000e+00 |        4032 |       20000 |            1 |           1 |         0.0 |reached target bit errors\n",
      "     -0.5 | 1.7590e-01 | 1.0000e+00 |        3518 |       20000 |            1 |           1 |         0.0 |reached target bit errors\n",
      "      0.0 | 1.5545e-01 | 1.0000e+00 |        3109 |       20000 |            1 |           1 |         0.0 |reached target bit errors\n",
      "      0.5 | 1.2910e-01 | 1.0000e+00 |        2582 |       20000 |            1 |           1 |         0.0 |reached target bit errors\n",
      "      1.0 | 1.1145e-01 | 1.0000e+00 |        2229 |       20000 |            1 |           1 |         0.0 |reached target bit errors\n",
      "      1.5 | 9.5850e-02 | 1.0000e+00 |        3834 |       40000 |            2 |           2 |         0.0 |reached target bit errors\n",
      "      2.0 | 7.6475e-02 | 1.0000e+00 |        3059 |       40000 |            2 |           2 |         0.0 |reached target bit errors\n",
      "      2.5 | 5.8650e-02 | 1.0000e+00 |        2346 |       40000 |            2 |           2 |         0.0 |reached target bit errors\n",
      "      3.0 | 4.8133e-02 | 1.0000e+00 |        2888 |       60000 |            3 |           3 |         0.1 |reached target bit errors\n",
      "      3.5 | 3.6033e-02 | 1.0000e+00 |        2162 |       60000 |            3 |           3 |         0.1 |reached target bit errors\n",
      "      4.0 | 2.5737e-02 | 1.0000e+00 |        2059 |       80000 |            4 |           4 |         0.1 |reached target bit errors\n",
      "      4.5 | 1.8458e-02 | 1.0000e+00 |        2215 |      120000 |            6 |           6 |         0.1 |reached target bit errors\n",
      "      5.0 | 1.2850e-02 | 1.0000e+00 |        2056 |      160000 |            8 |           8 |         0.1 |reached target bit errors\n",
      "      5.5 | 8.7167e-03 | 1.0000e+00 |        2092 |      240000 |           12 |          12 |         0.2 |reached target bit errors\n",
      "      6.0 | 5.1125e-03 | 1.0000e+00 |        2045 |      400000 |           20 |          20 |         0.3 |reached target bit errors\n",
      "      6.5 | 3.0712e-03 | 1.0000e+00 |        2027 |      660000 |           33 |          33 |         0.6 |reached target bit errors\n",
      "      7.0 | 1.7946e-03 | 1.0000e+00 |        2010 |     1120000 |           56 |          56 |         1.0 |reached target bit errors\n",
      "      7.5 | 9.5524e-04 | 1.0000e+00 |        2006 |     2100000 |          105 |         105 |         1.8 |reached target bit errors\n",
      "      8.0 | 4.5950e-04 | 1.0000e+00 |        1838 |     4000000 |          200 |         200 |         3.4 |reached max iter       \n",
      "      8.5 | 2.0875e-04 | 9.8000e-01 |         835 |     4000000 |          196 |         200 |         3.7 |reached max iter       \n",
      "      9.0 | 7.8750e-05 | 7.9000e-01 |         315 |     4000000 |          158 |         200 |         3.5 |reached max iter       \n",
      "      9.5 | 3.4250e-05 | 4.7500e-01 |         137 |     4000000 |           95 |         200 |         3.5 |reached max iter       \n",
      "     10.0 | 9.5000e-06 | 1.8000e-01 |          38 |     4000000 |           36 |         200 |         3.4 |reached max iter       \n",
      "EbNo [dB] |        BER |       BLER |  bit errors |    num bits | block errors |  num blocks | runtime [s] |    status\n",
      "---------------------------------------------------------------------------------------------------------------------------------------\n",
      "     -2.0 | 6.2559e-01 | 1.0000e+00 |       50047 |       80000 |            1 |           1 |         0.3 |reached target bit errors\n",
      "     -1.5 | 5.7614e-01 | 1.0000e+00 |       46091 |       80000 |            1 |           1 |         0.3 |reached target bit errors\n",
      "     -1.0 | 5.2229e-01 | 1.0000e+00 |       41783 |       80000 |            1 |           1 |         0.3 |reached target bit errors\n",
      "     -0.5 | 4.6784e-01 | 1.0000e+00 |       37427 |       80000 |            1 |           1 |         0.3 |reached target bit errors\n",
      "      0.0 | 4.0582e-01 | 1.0000e+00 |       32466 |       80000 |            1 |           1 |         0.3 |reached target bit errors\n",
      "      0.5 | 3.4886e-01 | 1.0000e+00 |       27909 |       80000 |            1 |           1 |         0.3 |reached target bit errors\n",
      "      1.0 | 2.9042e-01 | 1.0000e+00 |       23234 |       80000 |            1 |           1 |         0.4 |reached target bit errors\n",
      "      1.5 | 2.3410e-01 | 1.0000e+00 |       18728 |       80000 |            1 |           1 |         0.4 |reached target bit errors\n",
      "      2.0 | 1.8302e-01 | 1.0000e+00 |       14642 |       80000 |            1 |           1 |         0.4 |reached target bit errors\n",
      "      2.5 | 1.3905e-01 | 1.0000e+00 |       11124 |       80000 |            1 |           1 |         0.4 |reached target bit errors\n",
      "      3.0 | 9.8613e-02 | 1.0000e+00 |        7889 |       80000 |            1 |           1 |         0.4 |reached target bit errors\n",
      "      3.5 | 6.9425e-02 | 1.0000e+00 |        5554 |       80000 |            1 |           1 |         0.4 |reached target bit errors\n",
      "      4.0 | 4.7625e-02 | 1.0000e+00 |        3810 |       80000 |            1 |           1 |         0.4 |reached target bit errors\n",
      "      4.5 | 2.8700e-02 | 1.0000e+00 |        2296 |       80000 |            1 |           1 |         0.4 |reached target bit errors\n",
      "      5.0 | 1.6463e-02 | 1.0000e+00 |        2634 |      160000 |            2 |           2 |         0.8 |reached target bit errors\n",
      "      5.5 | 8.9417e-03 | 1.0000e+00 |        2146 |      240000 |            3 |           3 |         1.2 |reached target bit errors\n",
      "      6.0 | 4.4750e-03 | 1.0000e+00 |        2148 |      480000 |            6 |           6 |         2.4 |reached target bit errors\n",
      "      6.5 | 2.1771e-03 | 1.0000e+00 |        2090 |      960000 |           12 |          12 |         5.0 |reached target bit errors\n",
      "      7.0 | 9.0134e-04 | 1.0000e+00 |        2019 |     2240000 |           28 |          28 |        12.7 |reached target bit errors\n",
      "      7.5 | 3.5546e-04 | 1.0000e+00 |        2019 |     5680000 |           71 |          71 |        28.1 |reached target bit errors\n",
      "      8.0 | 1.1981e-04 | 1.0000e+00 |        1917 |    16000000 |          200 |         200 |        60.0 |reached max iter       \n",
      "      8.5 | 3.9500e-05 | 9.6000e-01 |         632 |    16000000 |          192 |         200 |        74.4 |reached max iter       \n",
      "      9.0 | 1.0500e-05 | 5.8000e-01 |         168 |    16000000 |          116 |         200 |        78.8 |reached max iter       \n",
      "      9.5 | 3.2500e-06 | 2.2000e-01 |          52 |    16000000 |           44 |         200 |        63.7 |reached max iter       \n",
      "     10.0 | 3.1250e-07 | 2.5000e-02 |           5 |    16000000 |            5 |         200 |        54.2 |reached max iter       \n"
     ]
    }
   ],
   "source": [
    "BER = {}\n",
    "BLER = {}\n",
    "\n",
    "# Uncoded BPSK(2,2) \n",
    "uncoded_sys_2_2 = Uncodedmodel(k = 2 ,n = 2, num_bits_per_symbol = 1)\n",
    "ber,bler = sim_ber(uncoded_sys_2_2, ebno_db, soft_estimates=True,batch_size=10000, num_target_block_errors=2000, max_mc_iter=200)\n",
    "BLER['uncoded_2_2'] = bler.numpy()\n",
    "BER['uncoded_2_2'] = ber.numpy()\n",
    "\n",
    "# Uncoded BPSK(8,8) \n",
    "uncoded_sys_8_8 = Uncodedmodel(k = 8 ,n = 8, num_bits_per_symbol = 1)\n",
    "ber,bler = sim_ber(uncoded_sys_8_8, ebno_db,soft_estimates=True, batch_size=10000, num_target_block_errors=2000, max_mc_iter=200)\n",
    "BLER['uncoded_8_8'] = bler.numpy()\n",
    "BER['uncoded_8_8'] = ber.numpy()\n",
    "\n",
    "# autoencoder (2,2)\n",
    "model_ae_22 = Autoencoder(M=4,n=2,R=1,training=False)\n",
    "load_weights(model_ae_22,weights_path_ae_22)\n",
    "ber,bler = sim_ber(model_ae_22,ebno_db,batch_size=20000, num_target_bit_errors=2000, max_mc_iter=200)\n",
    "BLER['ae_22'] = ber.numpy()\n",
    "\n",
    "# autoencoder (8,8)\n",
    "model_ae_88 = Autoencoder(M=256,n=8,R=1,training=False)\n",
    "load_weights(model_ae_88,weights_path_ae_88)\n",
    "ber,bler = sim_ber(model_ae_88,ebno_db,batch_size=80000, num_target_bit_errors=2000, max_mc_iter=200)\n",
    "BLER['ae_88'] = ber.numpy()\n"
   ]
  },
  {
   "cell_type": "code",
   "execution_count": 18,
   "id": "ff45d792-132b-41f2-aa97-42c1c73c007c",
   "metadata": {},
   "outputs": [
    {
     "data": {
      "image/png": "[encoded data removed]",
      "text/plain": [
       "<Figure size 720x576 with 1 Axes>"
      ]
     },
     "metadata": {
      "needs_background": "light"
     },
     "output_type": "display_data"
    }
   ],
   "source": [
    "plt.figure(figsize=(10,8))\n",
    "\n",
    "plt.semilogy(ebno_db, BLER['uncoded_2_2'], 'x-.', c=f'C0', label=f'Uncoded BPSK(2,2)')\n",
    "plt.semilogy(ebno_db, BLER['uncoded_8_8'], '^-.', c=f'C1', label=f'Uncoded BPSK(8,8)')\n",
    "plt.semilogy(ebno_db, BLER['ae_22'], 'o-.', c=f'C2', label=f'Autoencoder(2,2)')\n",
    "plt.semilogy(ebno_db, BLER['ae_88'], '*-.', c=f'C3', label=f'Autoencoder(8,8)')\n",
    "\n",
    "plt.xlabel(r\"$E_b/N_0$ (dB)\")\n",
    "plt.ylabel(\"BLER\")\n",
    "plt.grid(which=\"both\")\n",
    "plt.ylim((1e-5, 1.0))\n",
    "plt.legend()\n",
    "plt.tight_layout()"
   ]
  }
 ],
 "metadata": {
  "kernelspec": {
   "display_name": "Python 3 (ipykernel)",
   "language": "python",
   "name": "python3"
  },
  "language_info": {
   "codemirror_mode": {
    "name": "ipython",
    "version": 3
   },
   "file_extension": ".py",
   "mimetype": "text/x-python",
   "name": "python",
   "nbconvert_exporter": "python",
   "pygments_lexer": "ipython3",
   "version": "3.9.12"
  }
 },
 "nbformat": 4,
 "nbformat_minor": 5
}
